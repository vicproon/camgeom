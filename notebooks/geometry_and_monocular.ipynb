{
 "cells": [
  {
   "cell_type": "markdown",
   "metadata": {
    "slideshow": {
     "slide_type": "slide"
    }
   },
   "source": [
    "# Практическая работа 1\n",
    "\n",
    "## Тема: геометрические преобразования и монокулярное зрение\n",
    "\n",
    "### Задачи: \n",
    "* знакомство с python, numpy, jupyter, matplotlib и проч.\n",
    "* применение пройденных геометрических преобразований\n",
    "* применение законов центральной проекции\n",
    "* применение обратного проецирования с априорными знаниями\n",
    "* ???\n",
    "\n",
    "### Prerequirements \n",
    "* интерпретатор python 2.7.xx\n",
    "* библиотеки numpy, matplotlib, scipy"
   ]
  },
  {
   "cell_type": "markdown",
   "metadata": {},
   "source": [
    "Это - интерактивная веб-оболочка для последовательного выполнения команд на языке Python.\n",
    "Она состоит из клеток(Cell), которые могут содержать как программный код, так и текст в синтаксисе разметки Markdown.\n",
    "\n",
    "Попробуйте для проверки изменить содержимое данного Cell. "
   ]
  },
  {
   "cell_type": "markdown",
   "metadata": {},
   "source": [
    "Далее следует Cell с исходным кодом.\n",
    "Запустите ее чтобы получить результат"
   ]
  },
  {
   "cell_type": "code",
   "execution_count": null,
   "metadata": {},
   "outputs": [],
   "source": [
    "# тут можно вставлять комментарии\n",
    "print 'hello, world!. ', str(5 + 7)\n",
    "\n",
    "def generate_random_number():\n",
    "    return 4"
   ]
  },
  {
   "cell_type": "code",
   "execution_count": null,
   "metadata": {},
   "outputs": [],
   "source": [
    "# разные клеточки делят все имена функций, классов, переменные и их значения.\n",
    "# а так же импортнутые модули и проч.\n",
    "print 'rolling... '\n",
    "print generate_random_number()"
   ]
  },
  {
   "cell_type": "markdown",
   "metadata": {},
   "source": [
    "Итак, давайте\n",
    "### Приступим к заданию\n",
    "\n",
    "для начала проверим, что установлены все библиотеки.\n",
    "у меня следующий код выводит что-то вроде\n",
    "\n",
    "\n",
    "numpy found, version is  1.11.0\n",
    "\n",
    "matplotlib found, version is  1.5.3\n",
    "\n",
    "scipy found, version is  0.17.0"
   ]
  },
  {
   "cell_type": "code",
   "execution_count": null,
   "metadata": {},
   "outputs": [],
   "source": [
    "#coding=utf-8\n",
    "import numpy as np\n",
    "print 'numpy found, version is ', np.__version__\n",
    "\n",
    "import matplotlib as mpl\n",
    "import matplotlib.pyplot as plt # pyplot - обертка matplotlib для интерактивного графопостроения.\n",
    "print 'matplotlib found, version is ', mpl.__version__\n",
    "\n",
    "import scipy\n",
    "print 'scipy found, version is ', scipy.__version__"
   ]
  },
  {
   "cell_type": "markdown",
   "metadata": {
    "collapsed": true
   },
   "source": [
    "Если не вылезли ошибки, значит все хорошо и можно двигаться дальше. "
   ]
  },
  {
   "cell_type": "markdown",
   "metadata": {},
   "source": [
    "## 1. Движения\n",
    "Для начала сгенерируем точки которые будем двигать."
   ]
  },
  {
   "cell_type": "code",
   "execution_count": null,
   "metadata": {},
   "outputs": [],
   "source": [
    "import numpy.random\n",
    "\n",
    "def generate_2d_points(N):\n",
    "    return np.random.multivariate_normal(np.zeros(2), np.eye(2), N)\n",
    "\n",
    "points = generate_2d_points(10)\n",
    "\n",
    "print 'points generated. ', points.shape\n",
    "print points"
   ]
  },
  {
   "cell_type": "markdown",
   "metadata": {},
   "source": [
    "Мы сгенерировали массив точек, сами точки лежат вдоль первой координаты, их координаты - вдоль второй координаты.\n",
    "Можно посмотреть на наши точки:"
   ]
  },
  {
   "cell_type": "code",
   "execution_count": null,
   "metadata": {},
   "outputs": [],
   "source": [
    "# если эта строчка вызывает ошибки - обновить ipython и matplotlib. или убрать ее\n",
    "# или заменить на matplotlib inline.\n",
    "%matplotlib notebook \n",
    "\n",
    "plt.scatter(points[:, 0], points[:, 1])\n",
    "plt.show()"
   ]
  },
  {
   "cell_type": "markdown",
   "metadata": {},
   "source": [
    "### Задача 1.1\n",
    "Напишите функцию для генерации 3хмерных точек:"
   ]
  },
  {
   "cell_type": "code",
   "execution_count": null,
   "metadata": {},
   "outputs": [],
   "source": [
    "def generate_3d_points(N):\n",
    "    pass"
   ]
  },
  {
   "cell_type": "code",
   "execution_count": null,
   "metadata": {},
   "outputs": [],
   "source": [
    "f = plt.figure()\n",
    "from mpl_toolkits import mplot3d\n",
    "ax = mplot3d.Axes3D(f)\n",
    "\n",
    "points3D = generate_3d_points(15)\n",
    "ax.scatter(points3D[:, 0], points3D[:, 1], points3D[:, 2])"
   ]
  },
  {
   "cell_type": "markdown",
   "metadata": {
    "collapsed": true
   },
   "source": [
    "Теперь попробуем повернуть наше облако точек:"
   ]
  },
  {
   "cell_type": "code",
   "execution_count": null,
   "metadata": {},
   "outputs": [],
   "source": [
    "def rot_matrix(angles):\n",
    "    cos = [np.math.cos(a) for a in angles]\n",
    "    sin = [np.math.sin(a) for a in angles]\n",
    "    Rz = np.array([[cos[2], -sin[2], 0],\n",
    "                   [sin[2], cos[2],  0],\n",
    "                   [     0,      0,  1]])\n",
    "\n",
    "    Ry = np.array([[ cos[1], 0, sin[1]],\n",
    "                   [      0, 1,      0],\n",
    "                   [-sin[1], 0, cos[1]]])\n",
    "\n",
    "    Rx = np.array([[1,      0,       0],\n",
    "                   [0, cos[0], -sin[0]],\n",
    "                   [0, sin[0], cos[0]]])\n",
    "    #Rs = [Rx, Ry, Rz]\n",
    "    return Ry.dot(Rx).dot(Rz)\n",
    "\n",
    "R = rot_matrix([np.pi / 6.0, 0, np.pi / 3.0])\n",
    "print 'R = ', R\n",
    "print '||R||_2 = ', np.linalg.norm(R, ord=2)\n",
    "print '|R| = ', np.linalg.det(R)\n"
   ]
  },
  {
   "cell_type": "markdown",
   "metadata": {},
   "source": [
    "### Задача 1.2(*)\n",
    "Напишите функцию, вычисляющую углы поворота из матрицы поворота\n"
   ]
  },
  {
   "cell_type": "code",
   "execution_count": null,
   "metadata": {},
   "outputs": [],
   "source": [
    "def rot_angles(matrix):\n",
    "    pass\n",
    "\n",
    "print rot_angles(R)"
   ]
  },
  {
   "cell_type": "markdown",
   "metadata": {},
   "source": [
    "### Задача 1.3. применение движений к точкам\n",
    "* Примените операцию поворота к массиву points3D.\n",
    "* Добавьте к повороту смещение на вектор t=[0,10,0]"
   ]
  },
  {
   "cell_type": "code",
   "execution_count": null,
   "metadata": {
    "collapsed": true
   },
   "outputs": [],
   "source": [
    "# поворот вставьте сюда. отобразите результат\n",
    "def rotate(points, rot_mat):\n",
    "    pass\n",
    "\n",
    "rotated_points = rotate(points3D, R)"
   ]
  },
  {
   "cell_type": "code",
   "execution_count": null,
   "metadata": {
    "collapsed": true
   },
   "outputs": [],
   "source": [
    "t = np.array([0.0, 10.0, 0.0])\n",
    "# сдвиг вставьте сюда. отобразите результат\n",
    "def translate(points, t):\n",
    "    pass\n",
    "\n",
    "translated_points = translate(points, t)"
   ]
  },
  {
   "cell_type": "markdown",
   "metadata": {},
   "source": [
    "Теперь перейдем к однородным координатам.\n",
    "Используйте функцию 'np.hstack', чтобы присоединить единичку к векторам-точкам."
   ]
  },
  {
   "cell_type": "code",
   "execution_count": null,
   "metadata": {
    "collapsed": true
   },
   "outputs": [],
   "source": [
    "def make_homogenous(points):\n",
    "    return np.hstack([points, np.ones(points.shape[0])])\n",
    "\n",
    "# вставьте движение точек с помощью однородных координат сюда. отобразите результат\n",
    "def move(points, rot_mat, t):\n",
    "    pass\n",
    "\n"
   ]
  },
  {
   "cell_type": "markdown",
   "metadata": {},
   "source": [
    "Мы научились обращаться с массивом точек, поворачивать, двигать его, переводить в однородные координаты. \n",
    "Если в обозначенных функциях вы пользовались циклами, постарайтесь обойтись без них."
   ]
  },
  {
   "cell_type": "markdown",
   "metadata": {},
   "source": [
    "## 2. Проективное преобразование\n",
    "### Задача 2.4\n",
    "* Сгенерируйте 4 двумерные точки в общем положении\n",
    "* Сгенерируйте случайное проективное преобразовани\n",
    "* Преобразуйте точки этим проективным преобразованием и отобразите на одном plot результаты до\\после"
   ]
  },
  {
   "cell_type": "code",
   "execution_count": null,
   "metadata": {
    "collapsed": true
   },
   "outputs": [],
   "source": [
    "# решение задачи 2.4"
   ]
  },
  {
   "cell_type": "markdown",
   "metadata": {},
   "source": [
    "### Задача 2.5(*)\n",
    "Сгенерируйте 4 точки в общем положении. Вычислите проективное преобразование переводящее их в \n",
    "а) прямоугольник\n",
    "б) квадрат"
   ]
  },
  {
   "cell_type": "code",
   "execution_count": null,
   "metadata": {
    "collapsed": true
   },
   "outputs": [],
   "source": [
    "#решение задачи 2.5*"
   ]
  },
  {
   "cell_type": "markdown",
   "metadata": {},
   "source": [
    "## 3. Центральная проекция. Матрица камеры\n",
    "В этой части практической работы мы будем работать с камерой.\n",
    "Наши трехмерные точки, сгенерированный в первой части мы будем проецировать на изображение камеры и отображать."
   ]
  },
  {
   "cell_type": "code",
   "execution_count": null,
   "metadata": {},
   "outputs": [],
   "source": [
    "from exceptions import ValueError\n",
    "\n",
    "class Camera:\n",
    "    '''Pinhole camera projection'''\n",
    "    def __init__(self, R, t, K, size):\n",
    "        # вставьте сюда проверку размеров и того что R - матрица поворота.\n",
    "        self.R = R\n",
    "        self.t = t\n",
    "        self.K = K\n",
    "        self.size = size\n",
    "        # self.P = np.\n",
    "        # self.P = K * (R|t)\n",
    "        # self.size = size\n",
    "        pass\n",
    "    \n",
    "    def project(self, points):\n",
    "        if points.shape[1] == 3:\n",
    "            homo_pts = self.K.dot(translate(rotate(points, self.R), self.t)).T\n",
    "        elif points.shape[1] == 4:\n",
    "            homo_pts = self.P.dot(points.T)\n",
    "        else:\n",
    "            raise ValueError('Incorrect points size for Camera.project: %s' % \\\n",
    "                             str(points.shape))\n",
    "        return homo_pts[:, : 2] / homo_pts[:, 2].reshape(-1, 1)"
   ]
  },
  {
   "cell_type": "markdown",
   "metadata": {},
   "source": [
    "### Задача 3.6\n",
    "Поместите камеру так, чтобы все точки были спереди камеры.\n",
    "Спроецируйте точки и отобразите средствами matplotlib (используйте функцию plt.scatter).\n"
   ]
  },
  {
   "cell_type": "code",
   "execution_count": null,
   "metadata": {},
   "outputs": [],
   "source": [
    "# решение задачи 3.6\n",
    "K = np.array([[9.842439e+02, 0.000000e+00, 6.900000e+02],\n",
    "              [0.000000e+00, 9.808141e+02, 2.331966e+02],\n",
    "              [0.000000e+00, 0.000000e+00, 1.000000e+00]], dtype='float64')\n",
    "R = np.eye(3, dtype='float64')\n",
    "t = np.array([0, 0, 0], dtype='float64') # продобрать t используя статистики по Points\n",
    "img_size = (600, 800)\n",
    "cam = Camera(R=R, t=t, K=K, size=img_size)\n",
    "\n",
    "# дебаг-проверка\n",
    "# points3D = np.random.uniform(low=2,high=3,size=(10,3))\n",
    "\n",
    "projected_pts = cam.project(points3D)\n",
    "# plt.scatter ..."
   ]
  },
  {
   "cell_type": "markdown",
   "metadata": {},
   "source": [
    "## 4. Работа с изображениями\n",
    "Дискетные изображения - 3х-мерные массивы чисел.\n",
    "Две координаты отвечают за пространственное положение пикселя, третья - за канал. \n",
    "Нумеровать измерения изображений могут по-разному, обычно это либо (ch, y, x), либо (y, x, ch). \n",
    "Один из наиболее частых типов изображения - 3х канальные восьмибитные.\n",
    "В библиотеке OpenCV такой тип обозначается CV_8UC3.\n",
    "Значения элементов такого изображения имеют тип uint8 (или unsigned char в C\\C++) - по 256 градаций на каждый канал.\n",
    "\n",
    "\n",
    "В Python есть различные библиотеки по работе с изображениями - PIL, OpenCV, Scikit-image, scipy.ndimage.\n",
    "Все они представляют изображение в виде numpy.array"
   ]
  },
  {
   "cell_type": "code",
   "execution_count": null,
   "metadata": {},
   "outputs": [],
   "source": [
    "# попробуем создать пиксельное изображение с нашей камеры и отобразить точки на нем.\n",
    "img = np.zeros(shape=(img_size[0], img_size[1], 3), dtype='uint8')\n",
    "\n",
    "img_pts = projected_pts.astype('int') # переводим к целым координатам пикселей\n",
    "# выделим только те точки, которые попадают в изображение\n",
    "img_pts = img_pts[(img_pts[:, 0] >= 0) & (img_pts[:, 1] >= 0) & \n",
    "                  (img_pts[:, 0] < img_size[0]) & (img_pts[:, 1] < img_size[1])]\n",
    "\n",
    "colors = np.random.uniform(0, 256, size=(img_pts.shape[0], 3)).astype('uint8')\n",
    "img[img_pts[:, 0], img_pts[:, 1], :] = colors\n",
    "plt.imshow(img) # вот так можно отобразить получившееся изображение\n",
    "plt.show()"
   ]
  },
  {
   "cell_type": "markdown",
   "metadata": {},
   "source": [
    "\n",
    "Итак, мы научились работать с растровыми изображениями.\n",
    "Теперь попробуем применить наши знания к реальным данным.\n",
    "В директории ../data/ вы можете найти изображение и облако точек, полученное с лидара - лазерного сканера, определяющее расстояния до точек в некотором телесном угле.\n",
    "Изображение и точки взяты из общедоступного датасета KITTI (http://www.cvlibs.net/datasets/kitti/)"
   ]
  },
  {
   "cell_type": "markdown",
   "metadata": {},
   "source": [
    "### Задача 4.6\n",
    "Отобразить точки с лидара на изображении."
   ]
  },
  {
   "cell_type": "code",
   "execution_count": null,
   "metadata": {
    "collapsed": true
   },
   "outputs": [],
   "source": [
    "# взглянем на данные.\n",
    "# изображение\n",
    "import scipy.ndimage\n",
    "image = scipy.ndimage.imread('../data/kitti_test_image.png')\n",
    "plt.imshow(image)\n",
    "plt.show()"
   ]
  },
  {
   "cell_type": "code",
   "execution_count": null,
   "metadata": {},
   "outputs": [],
   "source": [
    "# точки с лидара\n",
    "points = np.load('../data/points.npy')\n",
    "f = plt.figure()\n",
    "ax = mplot3d.Axes3D(f)\n",
    "pts = points[np.random.randint(0, points.shape[0], 1000), :] # отобразим только часть точек, чтобы не было тормозов\n",
    "ax.scatter(pts[:, 0], pts[:, 1], pts[:, 2])\n",
    "plt.show()"
   ]
  },
  {
   "cell_type": "markdown",
   "metadata": {},
   "source": [
    "Для успешного решения задачи необходимы параметры камеры и взаимной установки камеры и лидара.\n",
    "Эта информация приводится в датасете KITTI.\n",
    "Для простоты здесь будет все что нужно."
   ]
  },
  {
   "cell_type": "markdown",
   "metadata": {},
   "source": [
    "Описание датасета можно посмотреть по ссылке: http://www.cvlibs.net/publications/Geiger2013IJRR.pdf"
   ]
  },
  {
   "cell_type": "markdown",
   "metadata": {},
   "source": [
    "А сам датасет тут: http://www.cvlibs.net/datasets/kitti/raw_data.php\n",
    "\n",
    "Данные взяты из этого сета: 2011_09_26_drive_0048"
   ]
  },
  {
   "cell_type": "code",
   "execution_count": null,
   "metadata": {},
   "outputs": [],
   "source": [
    "\n",
    "# from_lidar transform, переход от лидара к камере номер 0 (черно-белой)\n",
    "R_from_lidar = np.array([[7.533745e-03, -9.999714e-01, -6.166020e-04],\n",
    "                       [1.480249e-02,  7.280733e-04, -9.998902e-01],\n",
    "                       [9.998621e-01,  7.523790e-03,  1.480755e-02]],\n",
    "                      dtype='float64')\n",
    "t_from_lidar = np.array([-4.069766e-03, -7.631618e-02, -2.717806e-01],\n",
    "                      dtype='float64')\n",
    "\n",
    "\n",
    "# матрицы поворота от камеры 0 к камере 2 и проекции. Обратите внимание, что матрица проекции P размерности 3х4\n",
    "R_rect_02 = [[ 9.998817e-01, 1.511453e-02, -2.841595e-03],\n",
    "             [-1.511724e-02, 9.998853e-01, -9.338510e-04],\n",
    "             [ 2.827154e-03, 9.766976e-04,  9.999955e-01]]\n",
    "\n",
    "P_rect_02 = np.array([[7.215377e+02, 0.000000e+00, 6.095593e+02, 4.485728e+01], \n",
    "                      [0.000000e+00, 7.215377e+02, 1.728540e+02, 2.163791e-01],\n",
    "                      [0.000000e+00, 0.000000e+00, 1.000000e+00, 2.745884e-03]], \n",
    "                      dtype='float64')\n",
    "\n",
    "#камера 2 расположена немного левее начала с.к. (камеры 0)\n",
    "R_cam = np.eye(3, dtype='float64')\n",
    "t_cam = np.array([5.956621e-02, 2.900141e-04, 2.577209e-03],\n",
    "                 dtype='float64')\n",
    "#Однако это учтено в матрице проекции. Если интересно как - смотрите описание по ссылке выше.\n",
    "\n",
    "img_size = image.shape[1::-1]"
   ]
  },
  {
   "cell_type": "code",
   "execution_count": null,
   "metadata": {
    "collapsed": true
   },
   "outputs": [],
   "source": [
    "# отображение точек с лидара pts на изображение image."
   ]
  },
  {
   "cell_type": "markdown",
   "metadata": {},
   "source": [
    "## Заключение\n",
    "Поздравляю, вы завершили выполнение практической работы номер 1. - Геометрия и центральная проекция.\n",
    "Надеюсь, вам было так же интересно выполнять задание как и мне его составлять.\n",
    "\n",
    "Чтобы сдать задание нужно\n",
    "\n",
    "1. сделать fork репозитория\n",
    "2. создать бранч с названием \"фамилия_№группы\"\n",
    "3. пройти задание и закоммитить сделанный ipynb в свой бранч.\n",
    "4. прислать мне ссылку на ваш бранч со сделанным заданием.\n",
    "\n",
    "или просто прислать выполненный .ipynb файл мне на емейл vicproon [at] gmail.\n",
    "\n",
    "Если вы нашли ошибку в коде или хотите что-то улучшить, можете так же сделать пулл реквест с понятным именем бранча."
   ]
  },
  {
   "cell_type": "code",
   "execution_count": null,
   "metadata": {
    "collapsed": true
   },
   "outputs": [],
   "source": []
  }
 ],
 "metadata": {
  "kernelspec": {
   "display_name": "Python 3",
   "language": "python",
   "name": "python3"
  },
  "language_info": {
   "codemirror_mode": {
    "name": "ipython",
    "version": 3
   },
   "file_extension": ".py",
   "mimetype": "text/x-python",
   "name": "python",
   "nbconvert_exporter": "python",
   "pygments_lexer": "ipython3",
   "version": "3.6.3"
  }
 },
 "nbformat": 4,
 "nbformat_minor": 1
}
